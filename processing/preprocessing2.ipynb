{
 "cells": [
  {
   "cell_type": "code",
   "execution_count": 1,
   "metadata": {},
   "outputs": [],
   "source": [
    "import os\n",
    "import glob\n",
    "import pandas as pd"
   ]
  },
  {
   "cell_type": "code",
   "execution_count": 2,
   "metadata": {},
   "outputs": [
    {
     "name": "stdout",
     "output_type": "stream",
     "text": [
      "File CSV unito salvato come matches_from_1970_to_today.csv\n"
     ]
    }
   ],
   "source": [
    "# Funzione per unire tutti i file CSV in una cartella\n",
    "def unisci_csv(cartella, nome_output):\n",
    "    # Costruisce il percorso completo della cartella\n",
    "    percorso_cartella = os.path.join(cartella, '*.csv')\n",
    "    \n",
    "    # Trova tutti i file CSV nella cartella\n",
    "    file_csv = glob.glob(percorso_cartella)\n",
    "    \n",
    "    # Lista per raccogliere i DataFrame\n",
    "    lista_df = []\n",
    "    \n",
    "    # Cicla su tutti i file CSV e li legge in DataFrame\n",
    "    for file in file_csv:\n",
    "        df = pd.read_csv(file)\n",
    "        lista_df.append(df)\n",
    "    \n",
    "    # Concatena tutti i DataFrame in uno solo\n",
    "    df_unito = pd.concat(lista_df, ignore_index=True)\n",
    "    \n",
    "    # Salva il DataFrame unito in un file CSV\n",
    "    df_unito.to_csv(nome_output, index=False)\n",
    "    print(f\"File CSV unito salvato come {nome_output}\")\n",
    "\n",
    "# Esegui la funzione specificando la cartella e il nome del file di output\n",
    "cartella = '../data/matches' \n",
    "nome_output = 'matches_from_1970_to_today.csv'  # Cambia con il nome desiderato per il file di output\n",
    "\n",
    "unisci_csv(cartella, nome_output)"
   ]
  },
  {
   "cell_type": "code",
   "execution_count": null,
   "metadata": {},
   "outputs": [],
   "source": []
  },
  {
   "cell_type": "code",
   "execution_count": null,
   "metadata": {},
   "outputs": [],
   "source": []
  }
 ],
 "metadata": {
  "kernelspec": {
   "display_name": "Python 3",
   "language": "python",
   "name": "python3"
  },
  "language_info": {
   "codemirror_mode": {
    "name": "ipython",
    "version": 3
   },
   "file_extension": ".py",
   "mimetype": "text/x-python",
   "name": "python",
   "nbconvert_exporter": "python",
   "pygments_lexer": "ipython3",
   "version": "3.12.7"
  }
 },
 "nbformat": 4,
 "nbformat_minor": 2
}
