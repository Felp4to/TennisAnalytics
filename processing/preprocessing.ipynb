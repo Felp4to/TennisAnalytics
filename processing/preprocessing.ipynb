{
 "cells": [
  {
   "cell_type": "code",
   "execution_count": 1,
   "metadata": {},
   "outputs": [],
   "source": [
    "import pandas as pd\n",
    "import os\n",
    "import csv\n",
    "import json\n",
    "from collections import defaultdict"
   ]
  },
  {
   "cell_type": "code",
   "execution_count": 2,
   "metadata": {},
   "outputs": [],
   "source": [
    "# Lista dei file di ranking per ciascun decennio e per il ranking attuale\n",
    "file_paths = [\n",
    "    ('../data/ranking/atp_rankings_70s.csv', 'ranking_70s'),\n",
    "    ('../data/ranking/atp_rankings_80s.csv', 'ranking_80s'),\n",
    "    ('../data/ranking/atp_rankings_90s.csv', 'ranking_90s'),\n",
    "    ('../data/ranking/atp_rankings_00s.csv', 'ranking_00s'),\n",
    "    ('../data/ranking/atp_rankings_10s.csv', 'ranking_10s'),\n",
    "    ('../data/ranking/atp_rankings_20s.csv', 'ranking_20s'),\n",
    "]"
   ]
  },
  {
   "cell_type": "code",
   "execution_count": 11,
   "metadata": {},
   "outputs": [],
   "source": [
    "def clean_data(file_path, label):\n",
    "    # Funzione per convertire la data\n",
    "    def extract_date_components(date_str):\n",
    "        year = date_str[:4]\n",
    "        month = date_str[4:6]\n",
    "        day = date_str[6:]\n",
    "        return year, month, day\n",
    "\n",
    "    # Leggi il CSV e costruisci la struttura annidata\n",
    "    rankings_data = defaultdict(lambda: defaultdict(lambda: defaultdict(list)))\n",
    "\n",
    "    # Apri il file CSV e leggi i dati\n",
    "    with open(file_path, newline='', encoding='utf-8') as csvfile:\n",
    "        reader = csv.DictReader(csvfile)\n",
    "        \n",
    "        for row in reader:\n",
    "            date = row['ranking_date']\n",
    "            rank = int(row['rank'])\n",
    "            \n",
    "            # Considera solo le prime 100 posizioni\n",
    "            if rank > 100:\n",
    "                continue  # Salta questa riga se il ranking è superiore a 100\n",
    "            \n",
    "            player = row['player']\n",
    "            \n",
    "            # Controlla se il campo 'points' è vuoto\n",
    "            points_str = row['points']\n",
    "            points = 0  # Imposta un valore di default\n",
    "            if points_str != '':  # Se il campo non è vuoto, convertilo in int\n",
    "                try:\n",
    "                    points = int(points_str)\n",
    "                except ValueError:\n",
    "                    print(f\"Warning: Non è possibile convertire '{points_str}' in int per il player {player}\")\n",
    "            \n",
    "            year, month, day = extract_date_components(date)\n",
    "            \n",
    "            # Aggiungi le informazioni nella struttura annidata\n",
    "            rankings_data[year][month][day].append({\n",
    "                'rank': rank,\n",
    "                'player': player,\n",
    "                'points': points\n",
    "            })\n",
    "\n",
    "    # Filtra i dati per prendere solo il primo giorno disponibile di ogni mese\n",
    "    filtered_rankings = defaultdict(lambda: defaultdict(dict))\n",
    "\n",
    "    for year, months in rankings_data.items():\n",
    "        for month, days in months.items():\n",
    "            # Trova il primo giorno disponibile ordinando i giorni\n",
    "            first_day = sorted(days.keys())[0]\n",
    "            # Salva i dati del primo giorno disponibile\n",
    "            filtered_rankings[year][month] = days[first_day]\n",
    "\n",
    "    label = label + '_clean.json'\n",
    "\n",
    "    json_path = os.path.join('.', 'ranking_json', label)\n",
    "\n",
    "    # Converti la struttura filtrata in un file JSON\n",
    "    with open(json_path, 'w', encoding='utf-8') as jsonfile:\n",
    "        json.dump(filtered_rankings, jsonfile, ensure_ascii=False, indent=4)\n",
    "\n",
    "    print(\"Conversione completata e file JSON filtrato creato.\")"
   ]
  },
  {
   "cell_type": "code",
   "execution_count": 12,
   "metadata": {},
   "outputs": [
    {
     "name": "stdout",
     "output_type": "stream",
     "text": [
      "Conversione completata e file JSON filtrato creato.\n",
      "Conversione completata e file JSON filtrato creato.\n",
      "Conversione completata e file JSON filtrato creato.\n",
      "Conversione completata e file JSON filtrato creato.\n",
      "Conversione completata e file JSON filtrato creato.\n",
      "Conversione completata e file JSON filtrato creato.\n"
     ]
    }
   ],
   "source": [
    "\n",
    "for file_path, label in file_paths:\n",
    "    clean_data(file_path, label);"
   ]
  },
  {
   "cell_type": "code",
   "execution_count": null,
   "metadata": {},
   "outputs": [],
   "source": []
  },
  {
   "cell_type": "code",
   "execution_count": null,
   "metadata": {},
   "outputs": [],
   "source": []
  }
 ],
 "metadata": {
  "kernelspec": {
   "display_name": "Python 3",
   "language": "python",
   "name": "python3"
  },
  "language_info": {
   "codemirror_mode": {
    "name": "ipython",
    "version": 3
   },
   "file_extension": ".py",
   "mimetype": "text/x-python",
   "name": "python",
   "nbconvert_exporter": "python",
   "pygments_lexer": "ipython3",
   "version": "3.12.7"
  }
 },
 "nbformat": 4,
 "nbformat_minor": 2
}
